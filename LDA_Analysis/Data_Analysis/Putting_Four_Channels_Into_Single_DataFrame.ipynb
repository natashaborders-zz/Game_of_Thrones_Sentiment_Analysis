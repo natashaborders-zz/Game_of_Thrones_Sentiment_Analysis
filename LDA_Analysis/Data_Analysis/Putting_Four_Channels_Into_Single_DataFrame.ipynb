{
 "cells": [
  {
   "cell_type": "code",
   "execution_count": 2,
   "metadata": {},
   "outputs": [],
   "source": [
    "from sklearn.feature_extraction.text import CountVectorizer, TfidfVectorizer\n",
    "from sklearn.datasets import fetch_20newsgroups\n",
    "import numpy as np\n",
    "import pickle\n",
    "import pandas as pd\n",
    "import pandas as pd\n",
    "from sklearn.feature_extraction.text import CountVectorizer \n",
    "from sklearn.decomposition import TruncatedSVD\n",
    "from sklearn.decomposition import NMF\n",
    "from sklearn.metrics.pairwise import cosine_similarity"
   ]
  },
  {
   "cell_type": "code",
   "execution_count": 4,
   "metadata": {},
   "outputs": [],
   "source": [
    "got = pickle.load( open( \"./Data/final_got_monday.pkl\", \"rb\" ) )\n",
    "asoiaf_reddit = pickle.load( open( \"./Data/final_asoiaf_monday.pkl\", \"rb\" ) )\n",
    "freefolk_reddit = pickle.load( open( \"./Data/final_freefolk_monday.pkl\", \"rb\" ) )"
   ]
  },
  {
   "cell_type": "code",
   "execution_count": 24,
   "metadata": {},
   "outputs": [],
   "source": [
    "got_reddit = pickle.load( open( \"./Data/got_reddit_ready_vector_monday.pkl\", \"rb\" ) )\n",
    "asoiaf_reddit = pickle.load( open( \"./Data/soiaf_reddit_ready_vector_monday.pkl\", \"rb\" ) )\n",
    "freefolk_reddit = pickle.load( open( \"./Data/freefolk_reddit_ready_vector_monday.pkl\", \"rb\" ) )"
   ]
  },
  {
   "cell_type": "code",
   "execution_count": 26,
   "metadata": {},
   "outputs": [
    {
     "name": "stdout",
     "output_type": "stream",
     "text": [
      "<class 'pandas.core.frame.DataFrame'>\n",
      "Int64Index: 153179 entries, 0 to 158663\n",
      "Data columns (total 7 columns):\n",
      "Publish Date          153179 non-null object\n",
      "body                  153179 non-null object\n",
      "sentiment             153179 non-null object\n",
      "sentiment_compound    153179 non-null object\n",
      "sentiment_sum         153179 non-null object\n",
      "sentiment_mean        153179 non-null object\n",
      "clean                 153179 non-null object\n",
      "dtypes: object(7)\n",
      "memory usage: 9.3+ MB\n"
     ]
    }
   ],
   "source": [
    "got_reddit.info()"
   ]
  },
  {
   "cell_type": "code",
   "execution_count": 44,
   "metadata": {},
   "outputs": [
    {
     "data": {
      "text/plain": [
       "153179"
      ]
     },
     "execution_count": 44,
     "metadata": {},
     "output_type": "execute_result"
    }
   ],
   "source": [
    "len(got)"
   ]
  },
  {
   "cell_type": "code",
   "execution_count": 30,
   "metadata": {},
   "outputs": [
    {
     "name": "stdout",
     "output_type": "stream",
     "text": [
      "<class 'pandas.core.frame.DataFrame'>\n",
      "Int64Index: 3078 entries, 0 to 3077\n",
      "Data columns (total 2 columns):\n",
      "Date_Created    3078 non-null object\n",
      "clean           3078 non-null object\n",
      "dtypes: object(2)\n",
      "memory usage: 72.1+ KB\n"
     ]
    }
   ],
   "source": [
    "forum.info()"
   ]
  },
  {
   "cell_type": "code",
   "execution_count": 36,
   "metadata": {},
   "outputs": [],
   "source": [
    "forum = forum.rename(columns = {'Date_Created': 'Publish Date'})"
   ]
  },
  {
   "cell_type": "code",
   "execution_count": 46,
   "metadata": {},
   "outputs": [],
   "source": [
    "forum['Publish Date'] = pd.to_datetime(forum['Publish Date'])"
   ]
  },
  {
   "cell_type": "code",
   "execution_count": 50,
   "metadata": {},
   "outputs": [],
   "source": [
    "freefolk_reddit['Publish Date'] = pd.to_datetime(freefolk_reddit['Publish Date'])\n",
    "got_reddit['Publish Date'] = pd.to_datetime(got_reddit['Publish Date'])\n",
    "asoiaf_reddit['Publish Date'] = pd.to_datetime(asoiaf_reddit['Publish Date'])"
   ]
  },
  {
   "cell_type": "code",
   "execution_count": 98,
   "metadata": {},
   "outputs": [],
   "source": [
    "forum = pickle.load( open( \"./Data/westeros_date.pkl\", \"rb\" ) )"
   ]
  },
  {
   "cell_type": "code",
   "execution_count": 105,
   "metadata": {},
   "outputs": [],
   "source": [
    "forum['Publish Date'] = forum['Date_Created']"
   ]
  },
  {
   "cell_type": "code",
   "execution_count": 106,
   "metadata": {},
   "outputs": [],
   "source": [
    "def transformation(df):\n",
    "    for i, j in df.iterrows(): \n",
    "            df['Publish Date'][i] = df['Publish Date'][i][:-5]\n",
    "            df['Publish Date'][i] = df['Publish Date'][i][:10] + ' ' + df['Publish Date'][i][11:]"
   ]
  },
  {
   "cell_type": "code",
   "execution_count": 107,
   "metadata": {},
   "outputs": [],
   "source": [
    "transformation(forum)"
   ]
  },
  {
   "cell_type": "code",
   "execution_count": 114,
   "metadata": {},
   "outputs": [],
   "source": [
    "forum['Date'] = pd.to_datetime(forum['Publish Date'])"
   ]
  },
  {
   "cell_type": "code",
   "execution_count": 118,
   "metadata": {},
   "outputs": [],
   "source": [
    "forum['Publish Date'] = forum['Date']"
   ]
  },
  {
   "cell_type": "code",
   "execution_count": 120,
   "metadata": {},
   "outputs": [],
   "source": [
    "database_list = [forum, got_reddit, freefolk_reddit, asoiaf_reddit]"
   ]
  },
  {
   "cell_type": "code",
   "execution_count": 137,
   "metadata": {},
   "outputs": [
    {
     "name": "stderr",
     "output_type": "stream",
     "text": [
      "/anaconda3/lib/python3.7/site-packages/ipykernel_launcher.py:1: FutureWarning: Sorting because non-concatenation axis is not aligned. A future version\n",
      "of pandas will change to not sort by default.\n",
      "\n",
      "To accept the future behavior, pass 'sort=False'.\n",
      "\n",
      "To retain the current behavior and silence the warning, pass 'sort=True'.\n",
      "\n",
      "  \"\"\"Entry point for launching an IPython kernel.\n"
     ]
    }
   ],
   "source": [
    "total_giant_dataframe = pd.concat(database_list, ignore_index = True)"
   ]
  },
  {
   "cell_type": "code",
   "execution_count": 139,
   "metadata": {},
   "outputs": [],
   "source": [
    "total_giant_dataframe['Publish Date'] = pd.to_datetime(total_giant_dataframe['Publish Date'])"
   ]
  },
  {
   "cell_type": "code",
   "execution_count": 140,
   "metadata": {
    "scrolled": true
   },
   "outputs": [
    {
     "name": "stdout",
     "output_type": "stream",
     "text": [
      "<class 'pandas.core.frame.DataFrame'>\n",
      "RangeIndex: 360359 entries, 0 to 360358\n",
      "Data columns (total 9 columns):\n",
      "Date                  3078 non-null datetime64[ns]\n",
      "Date_Created          3078 non-null object\n",
      "Publish Date          360359 non-null datetime64[ns]\n",
      "body                  357281 non-null object\n",
      "clean                 360359 non-null object\n",
      "sentiment             357281 non-null object\n",
      "sentiment_compound    357281 non-null object\n",
      "sentiment_mean        357281 non-null object\n",
      "sentiment_sum         357281 non-null object\n",
      "dtypes: datetime64[ns](2), object(7)\n",
      "memory usage: 24.7+ MB\n"
     ]
    }
   ],
   "source": [
    "total_giant_dataframe.info()"
   ]
  },
  {
   "cell_type": "code",
   "execution_count": 141,
   "metadata": {},
   "outputs": [],
   "source": [
    "total_giant_dataframe = total_giant_dataframe[['Publish Date', 'clean']]"
   ]
  },
  {
   "cell_type": "code",
   "execution_count": 142,
   "metadata": {},
   "outputs": [],
   "source": [
    "#total_giant_dataframe.to_csv('total_giant_dataframe.csv', index = False)"
   ]
  },
  {
   "cell_type": "code",
   "execution_count": 128,
   "metadata": {},
   "outputs": [],
   "source": [
    "total_giant_dataframe = total_giant_dataframe.set_index('Publish Date')"
   ]
  },
  {
   "cell_type": "code",
   "execution_count": 143,
   "metadata": {},
   "outputs": [],
   "source": [
    "total_giant_dataframe = total_giant_dataframe.dropna()"
   ]
  },
  {
   "cell_type": "code",
   "execution_count": 145,
   "metadata": {},
   "outputs": [],
   "source": [
    "#total_giant_dataframe.to_csv('total_giant_dataframe.csv', index = False)"
   ]
  }
 ],
 "metadata": {
  "kernelspec": {
   "display_name": "Python 3",
   "language": "python",
   "name": "python3"
  },
  "language_info": {
   "codemirror_mode": {
    "name": "ipython",
    "version": 3
   },
   "file_extension": ".py",
   "mimetype": "text/x-python",
   "name": "python",
   "nbconvert_exporter": "python",
   "pygments_lexer": "ipython3",
   "version": "3.7.3"
  }
 },
 "nbformat": 4,
 "nbformat_minor": 2
}

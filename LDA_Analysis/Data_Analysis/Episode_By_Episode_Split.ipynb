{
 "cells": [
  {
   "cell_type": "markdown",
   "metadata": {},
   "source": [
    "### Splitting the dataframe into pieces by episode ###"
   ]
  },
  {
   "cell_type": "code",
   "execution_count": 1,
   "metadata": {},
   "outputs": [],
   "source": [
    "import numpy as np\n",
    "import pickle\n",
    "import pandas as pd"
   ]
  },
  {
   "cell_type": "code",
   "execution_count": 2,
   "metadata": {},
   "outputs": [],
   "source": [
    "episodes = pd.read_csv('total_giant_dataframe.csv')"
   ]
  },
  {
   "cell_type": "code",
   "execution_count": 3,
   "metadata": {},
   "outputs": [
    {
     "data": {
      "text/html": [
       "<div>\n",
       "<style scoped>\n",
       "    .dataframe tbody tr th:only-of-type {\n",
       "        vertical-align: middle;\n",
       "    }\n",
       "\n",
       "    .dataframe tbody tr th {\n",
       "        vertical-align: top;\n",
       "    }\n",
       "\n",
       "    .dataframe thead th {\n",
       "        text-align: right;\n",
       "    }\n",
       "</style>\n",
       "<table border=\"1\" class=\"dataframe\">\n",
       "  <thead>\n",
       "    <tr style=\"text-align: right;\">\n",
       "      <th></th>\n",
       "      <th>Publish Date</th>\n",
       "      <th>clean</th>\n",
       "    </tr>\n",
       "  </thead>\n",
       "  <tbody>\n",
       "    <tr>\n",
       "      <th>0</th>\n",
       "      <td>3/31/19 17:00</td>\n",
       "      <td>could would watch wait season curious see woul...</td>\n",
       "    </tr>\n",
       "    <tr>\n",
       "      <th>1</th>\n",
       "      <td>3/31/19 17:01</td>\n",
       "      <td>picked dragon glass dagger found mexico taking...</td>\n",
       "    </tr>\n",
       "    <tr>\n",
       "      <th>2</th>\n",
       "      <td>3/31/19 17:02</td>\n",
       "      <td>book question man without face dead crow know ...</td>\n",
       "    </tr>\n",
       "    <tr>\n",
       "      <th>3</th>\n",
       "      <td>3/31/19 17:02</td>\n",
       "      <td>got</td>\n",
       "    </tr>\n",
       "    <tr>\n",
       "      <th>4</th>\n",
       "      <td>3/31/19 17:03</td>\n",
       "      <td>inconsistensy castle black importance hi first...</td>\n",
       "    </tr>\n",
       "  </tbody>\n",
       "</table>\n",
       "</div>"
      ],
      "text/plain": [
       "    Publish Date                                              clean\n",
       "0  3/31/19 17:00  could would watch wait season curious see woul...\n",
       "1  3/31/19 17:01  picked dragon glass dagger found mexico taking...\n",
       "2  3/31/19 17:02  book question man without face dead crow know ...\n",
       "3  3/31/19 17:02                                                got\n",
       "4  3/31/19 17:03  inconsistensy castle black importance hi first..."
      ]
     },
     "execution_count": 3,
     "metadata": {},
     "output_type": "execute_result"
    }
   ],
   "source": [
    "episodes.head()"
   ]
  },
  {
   "cell_type": "code",
   "execution_count": 5,
   "metadata": {},
   "outputs": [],
   "source": [
    "episodes['Publish Date'] = pd.to_datetime(episodes['Publish Date'])"
   ]
  },
  {
   "cell_type": "code",
   "execution_count": 6,
   "metadata": {},
   "outputs": [
    {
     "name": "stdout",
     "output_type": "stream",
     "text": [
      "<class 'pandas.core.frame.DataFrame'>\n",
      "RangeIndex: 360359 entries, 0 to 360358\n",
      "Data columns (total 2 columns):\n",
      "Publish Date    360359 non-null datetime64[ns]\n",
      "clean           355227 non-null object\n",
      "dtypes: datetime64[ns](1), object(1)\n",
      "memory usage: 5.5+ MB\n"
     ]
    }
   ],
   "source": [
    "episodes.info()"
   ]
  },
  {
   "cell_type": "code",
   "execution_count": 7,
   "metadata": {},
   "outputs": [],
   "source": [
    "#pickle.dump(episodes, open(\"episodes.pkl\", \"wb\" ))"
   ]
  },
  {
   "cell_type": "code",
   "execution_count": 12,
   "metadata": {},
   "outputs": [],
   "source": [
    "before = episodes[episodes['Publish Date']<'2019-04-14']"
   ]
  },
  {
   "cell_type": "code",
   "execution_count": 13,
   "metadata": {},
   "outputs": [
    {
     "name": "stdout",
     "output_type": "stream",
     "text": [
      "<class 'pandas.core.frame.DataFrame'>\n",
      "Int64Index: 17135 entries, 0 to 17134\n",
      "Data columns (total 2 columns):\n",
      "Publish Date    17135 non-null datetime64[ns]\n",
      "clean           16940 non-null object\n",
      "dtypes: datetime64[ns](1), object(1)\n",
      "memory usage: 401.6+ KB\n"
     ]
    }
   ],
   "source": [
    "before.info()"
   ]
  },
  {
   "cell_type": "code",
   "execution_count": 43,
   "metadata": {},
   "outputs": [],
   "source": [
    "#pickle.dump(before, open(\"before.pkl\", \"wb\" ))"
   ]
  },
  {
   "cell_type": "code",
   "execution_count": 14,
   "metadata": {},
   "outputs": [],
   "source": [
    "episode_1 = episodes[(episodes['Publish Date']>='2019-04-14') & (episodes['Publish Date']<'2019-04-21')]"
   ]
  },
  {
   "cell_type": "code",
   "execution_count": 18,
   "metadata": {},
   "outputs": [
    {
     "name": "stdout",
     "output_type": "stream",
     "text": [
      "<class 'pandas.core.frame.DataFrame'>\n",
      "Int64Index: 30428 entries, 17135 to 47562\n",
      "Data columns (total 2 columns):\n",
      "Publish Date    30428 non-null datetime64[ns]\n",
      "clean           29926 non-null object\n",
      "dtypes: datetime64[ns](1), object(1)\n",
      "memory usage: 713.2+ KB\n"
     ]
    }
   ],
   "source": [
    "episode_1.info()"
   ]
  },
  {
   "cell_type": "code",
   "execution_count": 17,
   "metadata": {},
   "outputs": [],
   "source": [
    "episode_2 = episodes[(episodes['Publish Date']>='2019-04-21') & (episodes['Publish Date']<'2019-04-28')]"
   ]
  },
  {
   "cell_type": "code",
   "execution_count": 19,
   "metadata": {},
   "outputs": [
    {
     "name": "stdout",
     "output_type": "stream",
     "text": [
      "<class 'pandas.core.frame.DataFrame'>\n",
      "Int64Index: 36635 entries, 47563 to 84197\n",
      "Data columns (total 2 columns):\n",
      "Publish Date    36635 non-null datetime64[ns]\n",
      "clean           36212 non-null object\n",
      "dtypes: datetime64[ns](1), object(1)\n",
      "memory usage: 858.6+ KB\n"
     ]
    }
   ],
   "source": [
    "episode_2.info()"
   ]
  },
  {
   "cell_type": "code",
   "execution_count": 20,
   "metadata": {},
   "outputs": [],
   "source": [
    "episode_3 = episodes[(episodes['Publish Date']>='2019-04-28') & (episodes['Publish Date']<'2019-05-04')]"
   ]
  },
  {
   "cell_type": "code",
   "execution_count": 21,
   "metadata": {},
   "outputs": [
    {
     "name": "stdout",
     "output_type": "stream",
     "text": [
      "<class 'pandas.core.frame.DataFrame'>\n",
      "Int64Index: 73970 entries, 84198 to 158167\n",
      "Data columns (total 2 columns):\n",
      "Publish Date    73970 non-null datetime64[ns]\n",
      "clean           72948 non-null object\n",
      "dtypes: datetime64[ns](1), object(1)\n",
      "memory usage: 1.7+ MB\n"
     ]
    }
   ],
   "source": [
    "episode_3.info()"
   ]
  },
  {
   "cell_type": "code",
   "execution_count": 22,
   "metadata": {},
   "outputs": [],
   "source": [
    "episode_4 = episodes[(episodes['Publish Date']>='2019-05-04') & (episodes['Publish Date']<'2019-05-12')]"
   ]
  },
  {
   "cell_type": "code",
   "execution_count": 23,
   "metadata": {},
   "outputs": [
    {
     "name": "stdout",
     "output_type": "stream",
     "text": [
      "<class 'pandas.core.frame.DataFrame'>\n",
      "Int64Index: 70894 entries, 158168 to 229061\n",
      "Data columns (total 2 columns):\n",
      "Publish Date    70894 non-null datetime64[ns]\n",
      "clean           69930 non-null object\n",
      "dtypes: datetime64[ns](1), object(1)\n",
      "memory usage: 1.6+ MB\n"
     ]
    }
   ],
   "source": [
    "episode_4.info()"
   ]
  },
  {
   "cell_type": "code",
   "execution_count": 24,
   "metadata": {},
   "outputs": [],
   "source": [
    "episode_5 = episodes[(episodes['Publish Date']>='2019-05-12') & (episodes['Publish Date']<'2019-05-19')]"
   ]
  },
  {
   "cell_type": "code",
   "execution_count": 25,
   "metadata": {},
   "outputs": [
    {
     "name": "stdout",
     "output_type": "stream",
     "text": [
      "<class 'pandas.core.frame.DataFrame'>\n",
      "Int64Index: 99157 entries, 229062 to 328218\n",
      "Data columns (total 2 columns):\n",
      "Publish Date    99157 non-null datetime64[ns]\n",
      "clean           97681 non-null object\n",
      "dtypes: datetime64[ns](1), object(1)\n",
      "memory usage: 2.3+ MB\n"
     ]
    }
   ],
   "source": [
    "episode_5.info()"
   ]
  },
  {
   "cell_type": "code",
   "execution_count": 28,
   "metadata": {},
   "outputs": [],
   "source": [
    "episode_6 = episodes[episodes['Publish Date']>='2019-05-19']"
   ]
  },
  {
   "cell_type": "code",
   "execution_count": 29,
   "metadata": {},
   "outputs": [
    {
     "name": "stdout",
     "output_type": "stream",
     "text": [
      "<class 'pandas.core.frame.DataFrame'>\n",
      "Int64Index: 32140 entries, 328219 to 360358\n",
      "Data columns (total 2 columns):\n",
      "Publish Date    32140 non-null datetime64[ns]\n",
      "clean           31590 non-null object\n",
      "dtypes: datetime64[ns](1), object(1)\n",
      "memory usage: 753.3+ KB\n"
     ]
    }
   ],
   "source": [
    "episode_6.info()"
   ]
  },
  {
   "cell_type": "code",
   "execution_count": 30,
   "metadata": {},
   "outputs": [],
   "source": [
    "winterfell_1 = episode_1"
   ]
  },
  {
   "cell_type": "code",
   "execution_count": 38,
   "metadata": {},
   "outputs": [],
   "source": [
    "#pickle.dump(winterfell_1, open(\"winterfell_1.pkl\", \"wb\" ))"
   ]
  },
  {
   "cell_type": "code",
   "execution_count": 32,
   "metadata": {},
   "outputs": [],
   "source": [
    "knight_2 = episode_2"
   ]
  },
  {
   "cell_type": "code",
   "execution_count": 39,
   "metadata": {},
   "outputs": [],
   "source": [
    "#pickle.dump(knight_2, open(\"knight_2.pkl\", \"wb\" ))"
   ]
  },
  {
   "cell_type": "code",
   "execution_count": 34,
   "metadata": {},
   "outputs": [],
   "source": [
    "long_night_3 = episode_3"
   ]
  },
  {
   "cell_type": "code",
   "execution_count": 40,
   "metadata": {},
   "outputs": [],
   "source": [
    "#pickle.dump(long_night_3, open(\"long_night_3.pkl\", \"wb\" ))"
   ]
  },
  {
   "cell_type": "code",
   "execution_count": 35,
   "metadata": {},
   "outputs": [],
   "source": [
    "last_starks_4 = episode_4"
   ]
  },
  {
   "cell_type": "code",
   "execution_count": 41,
   "metadata": {},
   "outputs": [],
   "source": [
    "#pickle.dump(last_starks_4, open(\"last_starks_4.pkl\", \"wb\" ))"
   ]
  },
  {
   "cell_type": "code",
   "execution_count": 36,
   "metadata": {},
   "outputs": [],
   "source": [
    "bells_5 = episode_5"
   ]
  },
  {
   "cell_type": "code",
   "execution_count": 42,
   "metadata": {},
   "outputs": [],
   "source": [
    "#pickle.dump(bells_5, open(\"bells_5.pkl\", \"wb\" ))"
   ]
  },
  {
   "cell_type": "code",
   "execution_count": 37,
   "metadata": {},
   "outputs": [],
   "source": [
    "iron_throne_6 = episode_6"
   ]
  },
  {
   "cell_type": "code",
   "execution_count": 44,
   "metadata": {},
   "outputs": [],
   "source": [
    "#pickle.dump(iron_throne_6, open(\"iron_throne_6.pkl\", \"wb\" ))"
   ]
  }
 ],
 "metadata": {
  "kernelspec": {
   "display_name": "Python 3",
   "language": "python",
   "name": "python3"
  },
  "language_info": {
   "codemirror_mode": {
    "name": "ipython",
    "version": 3
   },
   "file_extension": ".py",
   "mimetype": "text/x-python",
   "name": "python",
   "nbconvert_exporter": "python",
   "pygments_lexer": "ipython3",
   "version": "3.7.3"
  }
 },
 "nbformat": 4,
 "nbformat_minor": 2
}

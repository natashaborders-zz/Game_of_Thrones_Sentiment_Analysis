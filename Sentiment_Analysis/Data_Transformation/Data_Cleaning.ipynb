{
 "cells": [
  {
   "cell_type": "code",
   "execution_count": 1,
   "metadata": {},
   "outputs": [],
   "source": [
    "import pandas as pd\n",
    "import numpy as np\n",
    "import matplotlib.pyplot as plt\n",
    "import seaborn as sns\n",
    "\n",
    "%matplotlib inline\n",
    "import pickle\n",
    "from statistics import mean"
   ]
  },
  {
   "cell_type": "code",
   "execution_count": 2,
   "metadata": {},
   "outputs": [],
   "source": [
    "import nltk\n",
    "from nltk.tokenize import word_tokenize, sent_tokenize, RegexpTokenizer, MWETokenizer\n",
    "from nltk.util import ngrams\n",
    "import re\n",
    "import string\n",
    "from nltk.corpus import stopwords\n",
    "from nltk.chunk import ne_chunk\n",
    "set(stopwords.words('english'))\n",
    "from nltk.tag import pos_tag\n",
    "from sklearn.feature_extraction.text import CountVectorizer\n",
    "from nltk.stem.lancaster import LancasterStemmer\n",
    "from nltk.sentiment.vader import SentimentIntensityAnalyzer\n",
    "from nltk import tokenize"
   ]
  },
  {
   "cell_type": "code",
   "execution_count": 3,
   "metadata": {},
   "outputs": [],
   "source": [
    "got_reddit = pickle.load( open( \"./data/got_reddit.pkl\", \"rb\" ) )\n",
    "asoiaf_reddit = pickle.load( open( \"./data/asoiaf_reddit.pkl\", \"rb\" ) )\n",
    "freefolk_reddit = pickle.load( open( \"./data/freefolk_reddit.pkl\", \"rb\" ) )"
   ]
  },
  {
   "cell_type": "code",
   "execution_count": 4,
   "metadata": {},
   "outputs": [
    {
     "name": "stdout",
     "output_type": "stream",
     "text": [
      "(189774, 2)\n",
      "(28807, 2)\n",
      "(158665, 2)\n"
     ]
    }
   ],
   "source": [
    "print(freefolk_reddit.shape)\n",
    "print(asoiaf_reddit.shape)\n",
    "print(got_reddit.shape)"
   ]
  },
  {
   "cell_type": "code",
   "execution_count": 5,
   "metadata": {},
   "outputs": [],
   "source": [
    "freefolk_reddit['sentiment'] = ''\n",
    "asoiaf_reddit['sentiment'] = ''\n",
    "got_reddit['sentiment'] = ''\n",
    "\n",
    "freefolk_reddit['sentiment_compound'] = ''\n",
    "asoiaf_reddit['sentiment_compound'] = ''\n",
    "got_reddit['sentiment_compound'] = ''\n",
    "\n",
    "freefolk_reddit['sentiment_sum'] = ''\n",
    "asoiaf_reddit['sentiment_sum'] = ''\n",
    "got_reddit['sentiment_sum'] = ''\n",
    "\n",
    "freefolk_reddit['sentiment_mean'] = ''\n",
    "asoiaf_reddit['sentiment_mean'] = ''\n",
    "got_reddit['sentiment_mean'] = ''"
   ]
  },
  {
   "cell_type": "code",
   "execution_count": 6,
   "metadata": {},
   "outputs": [],
   "source": [
    "counts_free = freefolk_reddit['body'].value_counts()\n",
    "freefolk_reddit = freefolk_reddit[~freefolk_reddit['body'].isin(counts_free[counts_free > 1].index)]\n",
    "\n",
    "counts_a = asoiaf_reddit['body'].value_counts()\n",
    "asoiaf_reddit = asoiaf_reddit[~asoiaf_reddit['body'].isin(counts_a[counts_a > 1].index)]\n",
    "\n",
    "counts_g = got_reddit['body'].value_counts()\n",
    "got_reddit = got_reddit[~got_reddit['body'].isin(counts_g[counts_g > 1].index)]"
   ]
  },
  {
   "cell_type": "code",
   "execution_count": 7,
   "metadata": {},
   "outputs": [
    {
     "name": "stdout",
     "output_type": "stream",
     "text": [
      "(175822, 6)\n",
      "(28280, 6)\n",
      "(153179, 6)\n"
     ]
    }
   ],
   "source": [
    "print(freefolk_reddit.shape)\n",
    "print(asoiaf_reddit.shape)\n",
    "print(got_reddit.shape)"
   ]
  },
  {
   "cell_type": "code",
   "execution_count": 8,
   "metadata": {},
   "outputs": [],
   "source": [
    "def cleaning(text):\n",
    "    got_stopwords = ['[spoilers]', '[deleted]', 'nan', '[removed]', '[spoiler]', 'deleted', '[Spoilers', 'Main]', 'Spoilers', 'Main', 'removed', 'spoiler', '[All', 'Spoilers]', 'all', 'spoilers', '[NO SPOILER]', 'no spoiler', '[SPOLER]', '(Spoilers', 'Main)', 'spoler', '[Spoilers]', '[SPOILERS]', 'SPOILERS', 'MAIN]', 'MAIN', 'extended)', 'extended', 'Production)', 'Production', 'EXTENDED]', 'EXTENDED', '[NO', 'SPOILERS]', 'NO', '*Spoilers', 'Ahead*', 'Ahead', 'Extended]', 'Extended', '{SPOILER}', 'SPOILER', '[No', 'Spoiler]', 'No', 'Spoiler', '(NO', 'SPOILERS)', 'MAIN)', '(SPOILERS', '(no', 'spoilers)', '[SPOILERS', 'Extended)']\n",
    "    text_words = text.split()\n",
    "    #print(text_words)\n",
    "    result_words = [word for word in text_words if word not in got_stopwords]\n",
    "    cleaned_text = ' '.join(result_words)\n",
    "    #print(cleaned_text)\n",
    "    return cleaned_text"
   ]
  },
  {
   "cell_type": "code",
   "execution_count": 10,
   "metadata": {},
   "outputs": [],
   "source": [
    "def transformation(df):\n",
    "    for i, j in df.iterrows(): \n",
    "            text = df['body'][i]\n",
    "        #print(text)\n",
    "            cleaned_text = cleaning(text)\n",
    "        #print(cleaned_text)\n",
    "            df['body'][i] = cleaned_text"
   ]
  },
  {
   "cell_type": "code",
   "execution_count": 11,
   "metadata": {},
   "outputs": [],
   "source": [
    "transformation(got_reddit)\n",
    "transformation(freefolk_reddit)\n",
    "transformation(asoiaf_reddit)"
   ]
  },
  {
   "cell_type": "code",
   "execution_count": 12,
   "metadata": {},
   "outputs": [],
   "source": [
    "#pickle.dump(freefolk_reddit, open(\"freefolk_reddit_after_removing_spam_monday.pkl\", \"wb\" ) )\n",
    "#pickle.dump(asoiaf_reddit, open(\"soiaf_reddit_after_removing_spam_monday.pkl\", \"wb\" ) )\n",
    "#pickle.dump(got_reddit, open(\"got_reddit_after_removing_spam_monday.pkl\", \"wb\" ) )"
   ]
  },
  {
   "cell_type": "code",
   "execution_count": 13,
   "metadata": {},
   "outputs": [],
   "source": [
    "sid = SentimentIntensityAnalyzer()\n",
    "\n",
    "def sentiment(df):\n",
    "    for i, j in df.iterrows(): \n",
    "        text = df['body'][i]\n",
    "        sentences = tokenize.sent_tokenize(text)\n",
    "        sentiment = []\n",
    "        for sentence in sentences:\n",
    "            ss = sid.polarity_scores(sentence)\n",
    "            sentiment.append(ss)\n",
    "        df['sentiment'][i] = sentiment"
   ]
  },
  {
   "cell_type": "code",
   "execution_count": 14,
   "metadata": {},
   "outputs": [],
   "source": [
    "def sentiment_compound_func(df):\n",
    "    for i, j in df.iterrows(): \n",
    "        text = df['sentiment'][i]\n",
    "        sentiment_list = []\n",
    "        for item in range(len(text)):\n",
    "            sentiment = text[item]['compound']\n",
    "            sentiment_list.append(sentiment)\n",
    "            df['sentiment_compound'][i] = sentiment_list"
   ]
  },
  {
   "cell_type": "code",
   "execution_count": 15,
   "metadata": {},
   "outputs": [],
   "source": [
    "def sentiment_sum_func(df):\n",
    "    for i, j in df.iterrows(): \n",
    "        df['sentiment_sum'][i] = sum(df['sentiment_compound'][i])"
   ]
  },
  {
   "cell_type": "code",
   "execution_count": 18,
   "metadata": {},
   "outputs": [],
   "source": [
    "def sentiment_mean_func(df):\n",
    "    for i, j in df.iterrows(): \n",
    "        df['sentiment_mean'][i] = mean(list(df['sentiment_compound'][i]))"
   ]
  },
  {
   "cell_type": "code",
   "execution_count": 17,
   "metadata": {},
   "outputs": [],
   "source": [
    "sentiment(freefolk_reddit)\n",
    "sentiment(asoiaf_reddit)\n",
    "sentiment(got_reddit)\n",
    "\n",
    "sentiment_compound_func(freefolk_reddit)\n",
    "sentiment_compound_func(asoiaf_reddit)\n",
    "sentiment_compound_func(got_reddit)\n",
    "\n",
    "sentiment_sum_func(freefolk_reddit)\n",
    "sentiment_sum_func(asoiaf_reddit)\n",
    "sentiment_sum_func(got_reddit)\n",
    "\n",
    "pickle.dump(freefolk_reddit, open(\"freefolk_reddit_cleaned_monday.pkl\", \"wb\" ) )\n",
    "pickle.dump(asoiaf_reddit, open(\"soiaf_reddit_cleaned_monday.pkl\", \"wb\" ) )\n",
    "pickle.dump(got_reddit, open(\"got_reddit_cleaned_monday.pkl\", \"wb\" ) )"
   ]
  },
  {
   "cell_type": "code",
   "execution_count": 20,
   "metadata": {},
   "outputs": [],
   "source": [
    "got_reddit = pickle.load( open( \"./data/got_reddit_cleaned_monday.pkl\", \"rb\" ) )\n",
    "asoiaf_reddit = pickle.load( open( \"./data/soiaf_reddit_cleaned_monday.pkl\", \"rb\" ) )\n",
    "freefolk_reddit = pickle.load( open( \"./data/freefolk_reddit_cleaned_monday.pkl\", \"rb\" ) )"
   ]
  },
  {
   "cell_type": "code",
   "execution_count": null,
   "metadata": {},
   "outputs": [],
   "source": []
  }
 ],
 "metadata": {
  "kernelspec": {
   "display_name": "Python 3",
   "language": "python",
   "name": "python3"
  },
  "language_info": {
   "codemirror_mode": {
    "name": "ipython",
    "version": 3
   },
   "file_extension": ".py",
   "mimetype": "text/x-python",
   "name": "python",
   "nbconvert_exporter": "python",
   "pygments_lexer": "ipython3",
   "version": "3.7.3"
  }
 },
 "nbformat": 4,
 "nbformat_minor": 2
}

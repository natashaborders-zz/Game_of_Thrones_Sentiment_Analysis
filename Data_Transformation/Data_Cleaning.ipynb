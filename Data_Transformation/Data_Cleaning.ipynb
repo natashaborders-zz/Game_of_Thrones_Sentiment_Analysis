{
 "cells": [
  {
   "cell_type": "code",
   "execution_count": 271,
   "metadata": {},
   "outputs": [],
   "source": [
    "import pandas as pd\n",
    "import numpy as np\n",
    "import matplotlib.pyplot as plt\n",
    "import seaborn as sns\n",
    "\n",
    "%matplotlib inline\n",
    "import pickle\n",
    "from statistics import mean"
   ]
  },
  {
   "cell_type": "code",
   "execution_count": 272,
   "metadata": {},
   "outputs": [],
   "source": [
    "import nltk\n",
    "from nltk.tokenize import word_tokenize, sent_tokenize, RegexpTokenizer, MWETokenizer\n",
    "from nltk.util import ngrams\n",
    "import re\n",
    "import string\n",
    "from nltk.corpus import stopwords\n",
    "from nltk.chunk import ne_chunk\n",
    "set(stopwords.words('english'))\n",
    "from nltk.tag import pos_tag\n",
    "from sklearn.feature_extraction.text import CountVectorizer\n",
    "from nltk.stem.lancaster import LancasterStemmer\n",
    "from nltk.sentiment.vader import SentimentIntensityAnalyzer\n",
    "from nltk import tokenize"
   ]
  },
  {
   "cell_type": "code",
   "execution_count": 273,
   "metadata": {},
   "outputs": [],
   "source": [
    "got_stopwords = ['[spoilers]', '[deleted]', 'nan', '[removed]', '[spoiler]', 'spoilers', 'deleted', \n",
    "                 'removed', 'spoiler', '[All Spoilers]', 'all spoilers', '[NO SPOILER]', 'no spoiler', '[SPOLER]', 'spoler']"
   ]
  },
  {
   "cell_type": "code",
   "execution_count": 274,
   "metadata": {},
   "outputs": [],
   "source": [
    "def cleaning_pipeline(text):\n",
    "    cleaner_text = \" \".join([word for word in text.split() if word.lower() not in got_stopwords])\n",
    "    return cleaner_text"
   ]
  },
  {
   "cell_type": "code",
   "execution_count": 275,
   "metadata": {},
   "outputs": [],
   "source": [
    "got_reddit = pickle.load( open( \"got_reddit.pkl\", \"rb\" ) )\n",
    "asoiaf_reddit = pickle.load( open( \"asoiaf_reddit.pkl\", \"rb\" ) )\n",
    "freefolk_reddit = pickle.load( open( \"freefolk_reddit.pkl\", \"rb\" ) )"
   ]
  },
  {
   "cell_type": "code",
   "execution_count": 276,
   "metadata": {},
   "outputs": [
    {
     "name": "stdout",
     "output_type": "stream",
     "text": [
      "(139768, 2)\n",
      "(24743, 2)\n",
      "(133485, 2)\n"
     ]
    }
   ],
   "source": [
    "print(freefolk_reddit.shape)\n",
    "print(asoiaf_reddit.shape)\n",
    "print(got_reddit.shape)"
   ]
  },
  {
   "cell_type": "code",
   "execution_count": 277,
   "metadata": {},
   "outputs": [],
   "source": [
    "freefolk_reddit['sentiment'] = ''\n",
    "asoiaf_reddit['sentiment'] = ''\n",
    "got_reddit['sentiment'] = ''\n",
    "\n",
    "freefolk_reddit['sentiment_compound'] = ''\n",
    "asoiaf_reddit['sentiment_compound'] = ''\n",
    "got_reddit['sentiment_compound'] = ''\n",
    "\n",
    "freefolk_reddit['sentiment_sum'] = ''\n",
    "asoiaf_reddit['sentiment_sum'] = ''\n",
    "got_reddit['sentiment_sum'] = ''\n",
    "\n",
    "freefolk_reddit['sentiment_mean'] = ''\n",
    "asoiaf_reddit['sentiment_mean'] = ''\n",
    "got_reddit['sentiment_mean'] = ''"
   ]
  },
  {
   "cell_type": "code",
   "execution_count": 278,
   "metadata": {},
   "outputs": [],
   "source": [
    "counts_free = freefolk_reddit['body'].value_counts()\n",
    "freefolk_reddit = freefolk_reddit[~freefolk_reddit['body'].isin(counts_free[counts_free > 1].index)]\n",
    "\n",
    "counts_a = asoiaf_reddit['body'].value_counts()\n",
    "asoiaf_reddit = asoiaf_reddit[~asoiaf_reddit['body'].isin(counts_a[counts_a > 1].index)]\n",
    "\n",
    "counts_g = got_reddit['body'].value_counts()\n",
    "got_reddit = got_reddit[~got_reddit['body'].isin(counts_g[counts_g > 1].index)]"
   ]
  },
  {
   "cell_type": "code",
   "execution_count": 279,
   "metadata": {},
   "outputs": [
    {
     "name": "stdout",
     "output_type": "stream",
     "text": [
      "(130794, 6)\n",
      "(24309, 6)\n",
      "(129195, 6)\n"
     ]
    }
   ],
   "source": [
    "print(freefolk_reddit.shape)\n",
    "print(asoiaf_reddit.shape)\n",
    "print(got_reddit.shape)"
   ]
  },
  {
   "cell_type": "code",
   "execution_count": 266,
   "metadata": {},
   "outputs": [],
   "source": [
    "#pickle.dump(freefolk_reddit, open(\"freefolk_reddit_after_removing_spam.pkl\", \"wb\" ) )\n",
    "#pickle.dump(asoiaf_reddit, open(\"soiaf_reddit_after_removing_spam.pkl\", \"wb\" ) )\n",
    "#pickle.dump(got_reddit, open(\"got_reddit_after_removing_spam.pkl\", \"wb\" ) )"
   ]
  },
  {
   "cell_type": "code",
   "execution_count": 280,
   "metadata": {},
   "outputs": [],
   "source": [
    "sid = SentimentIntensityAnalyzer()\n",
    "\n",
    "def sentiment(df):\n",
    "    for i, j in df.iterrows(): \n",
    "        text = df['body'][i]\n",
    "        cleaned_text = cleaning_pipeline(text)\n",
    "        df['body'][i] = cleaned_text\n",
    "        sentences = tokenize.sent_tokenize(cleaned_text)\n",
    "        sentiment = []\n",
    "        for sentence in sentences:\n",
    "            ss = sid.polarity_scores(sentence)\n",
    "            sentiment.append(ss)\n",
    "        df['sentiment'][i] = sentiment"
   ]
  },
  {
   "cell_type": "code",
   "execution_count": 281,
   "metadata": {},
   "outputs": [],
   "source": [
    "def sentiment_compound_func(df):\n",
    "    for i, j in df.iterrows(): \n",
    "        text = df['sentiment'][i]\n",
    "        sentiment_list = []\n",
    "        for item in range(len(text)):\n",
    "            sentiment = text[item]['compound']\n",
    "            sentiment_list.append(sentiment)\n",
    "            df['sentiment_compound'][i] = sentiment_list"
   ]
  },
  {
   "cell_type": "code",
   "execution_count": 282,
   "metadata": {},
   "outputs": [],
   "source": [
    "def sentiment_sum_func(df):\n",
    "    for i, j in df.iterrows(): \n",
    "        df['sentiment_sum'][i] = sum(df['sentiment_compound'][i])"
   ]
  },
  {
   "cell_type": "code",
   "execution_count": 283,
   "metadata": {},
   "outputs": [],
   "source": [
    "def sentiment_mean_func(df):\n",
    "    for i, j in df.iterrows(): \n",
    "        df['sentiment_mean'][i] = mean(list(df['sentiment_compound'][i]))"
   ]
  },
  {
   "cell_type": "code",
   "execution_count": 204,
   "metadata": {},
   "outputs": [],
   "source": [
    "sentiment(freefolk_reddit)\n",
    "sentiment(asoiaf_reddit)\n",
    "sentiment(got_reddit)\n",
    "\n",
    "sentiment_compound_func(freefolk_reddit)\n",
    "sentiment_compound_func(asoiaf_reddit)\n",
    "sentiment_compound_func(got_reddit)\n",
    "\n",
    "sentiment_sum_func(freefolk_reddit)\n",
    "sentiment_sum_func(asoiaf_reddit)\n",
    "sentiment_sum_func(got_reddit)\n",
    "\n",
    "sentiment_mean_func(freefolk_reddit)\n",
    "sentiment_mean_func(asoiaf_reddit)\n",
    "sentiment_meanfunc(got_reddit)\n",
    "\n",
    "pickle.dump(freefolk_reddit, open(\"freefolk_reddit_final.pkl\", \"wb\" ) )\n",
    "pickle.dump(asoiaf_reddit, open(\"soiaf_reddit_final.pkl\", \"wb\" ) )\n",
    "pickle.dump(got_reddit, open(\"got_reddit_final.pkl\", \"wb\" ) )"
   ]
  }
 ],
 "metadata": {
  "kernelspec": {
   "display_name": "Python 3",
   "language": "python",
   "name": "python3"
  },
  "language_info": {
   "codemirror_mode": {
    "name": "ipython",
    "version": 3
   },
   "file_extension": ".py",
   "mimetype": "text/x-python",
   "name": "python",
   "nbconvert_exporter": "python",
   "pygments_lexer": "ipython3",
   "version": "3.7.3"
  }
 },
 "nbformat": 4,
 "nbformat_minor": 2
}

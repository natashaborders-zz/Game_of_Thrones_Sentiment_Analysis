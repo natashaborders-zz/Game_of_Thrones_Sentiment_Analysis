{
 "cells": [
  {
   "cell_type": "code",
   "execution_count": 2,
   "metadata": {},
   "outputs": [],
   "source": [
    "import pandas as pd\n",
    "import numpy as np\n",
    "import matplotlib.pyplot as plt\n",
    "import seaborn as sns\n",
    "\n",
    "%matplotlib inline\n",
    "import pickle"
   ]
  },
  {
   "cell_type": "code",
   "execution_count": 3,
   "metadata": {},
   "outputs": [],
   "source": [
    "import nltk\n",
    "from nltk.tokenize import word_tokenize, sent_tokenize, RegexpTokenizer, MWETokenizer\n",
    "from nltk.util import ngrams\n",
    "import re\n",
    "import string\n",
    "from nltk.corpus import stopwords\n",
    "from nltk.chunk import ne_chunk\n",
    "set(stopwords.words('english'))\n",
    "from nltk.tag import pos_tag\n",
    "from sklearn.feature_extraction.text import CountVectorizer\n",
    "from nltk.stem.lancaster import LancasterStemmer\n",
    "from nltk.sentiment.vader import SentimentIntensityAnalyzer\n",
    "from nltk import tokenize"
   ]
  },
  {
   "cell_type": "code",
   "execution_count": null,
   "metadata": {},
   "outputs": [],
   "source": [
    "#stopwords.words('english')"
   ]
  },
  {
   "cell_type": "code",
   "execution_count": 4,
   "metadata": {},
   "outputs": [],
   "source": [
    "got_stopwords = ['[spoilers]', '[deleted]', 'nan', '[removed]', '[spoiler]', 'spoilers', 'deleted', 'removed', 'spoiler']"
   ]
  },
  {
   "cell_type": "code",
   "execution_count": 13,
   "metadata": {},
   "outputs": [],
   "source": [
    "def cleaning_pipeline(text):\n",
    "    cleaner_text = \" \".join([word for word in text.split() if word.lower() not in got_stopwords])\n",
    "    return cleaner_text"
   ]
  },
  {
   "cell_type": "code",
   "execution_count": 14,
   "metadata": {},
   "outputs": [],
   "source": [
    "got_reddit = pickle.load( open( \"got_reddit.pkl\", \"rb\" ) )"
   ]
  },
  {
   "cell_type": "code",
   "execution_count": 15,
   "metadata": {},
   "outputs": [],
   "source": [
    "asoiaf_reddit = pickle.load( open( \"asoiaf_reddit.pkl\", \"rb\" ) )"
   ]
  },
  {
   "cell_type": "code",
   "execution_count": 16,
   "metadata": {},
   "outputs": [],
   "source": [
    "freefolk_reddit = pickle.load( open( \"freefolk_reddit.pkl\", \"rb\" ) )"
   ]
  },
  {
   "cell_type": "code",
   "execution_count": 17,
   "metadata": {},
   "outputs": [],
   "source": [
    "freefolk_reddit['sentiment'] = 0\n",
    "asoiaf_reddit['sentiment'] = 0\n",
    "got_reddit['sentiment'] = 0"
   ]
  },
  {
   "cell_type": "code",
   "execution_count": 12,
   "metadata": {},
   "outputs": [],
   "source": [
    "#s = got_reddit['body'].value_counts()"
   ]
  },
  {
   "cell_type": "code",
   "execution_count": 18,
   "metadata": {},
   "outputs": [],
   "source": [
    "#got_reddit['body'].value_counts()"
   ]
  },
  {
   "cell_type": "code",
   "execution_count": 56,
   "metadata": {},
   "outputs": [],
   "source": [
    "df_sample = got_reddit.sample(5)"
   ]
  },
  {
   "cell_type": "code",
   "execution_count": 67,
   "metadata": {},
   "outputs": [
    {
     "data": {
      "text/plain": [
       "'Night King is Old Targaryen King'"
      ]
     },
     "execution_count": 67,
     "metadata": {},
     "output_type": "execute_result"
    }
   ],
   "source": [
    "df_sample.iloc[0]['body']"
   ]
  },
  {
   "cell_type": "code",
   "execution_count": 58,
   "metadata": {},
   "outputs": [],
   "source": [
    "sid = SentimentIntensityAnalyzer()\n",
    "\n",
    "def sentiment(df):\n",
    "    for i, j in df.iterrows(): \n",
    "        text = df['body'][i]\n",
    "        print(text)\n",
    "        cleaned_text = cleaning_pipeline(text)\n",
    "        df['body'][i] = cleaned_text\n",
    "        print(cleaned_text)\n",
    "        sentences = tokenize.sent_tokenize(cleaned_text)\n",
    "        sentiment = []\n",
    "        for sentence in sentences:\n",
    "            ss = sid.polarity_scores(sentence)\n",
    "            sentiment.append(ss)\n",
    "        df['sentiment'][i] = sentiment"
   ]
  },
  {
   "cell_type": "code",
   "execution_count": 59,
   "metadata": {},
   "outputs": [
    {
     "name": "stdout",
     "output_type": "stream",
     "text": [
      "[SPOILERS] Night King is Old Targaryen King [removed]\n",
      "Night King is Old Targaryen King\n",
      "Richard Brake was the better Night King. Can’t change my mind Not that it takes a whole lot of acting for the role of Night King, but I just think the facial structure of Richard Brakes Night King looks more realistic of a human decent. The current Night King played by Vladimír Furdík seems a little more “CGI/animated to me” but I’m also a wicked big fan of Richard’s other work so maybe I’m just biased🤷‍♀️\n",
      "Richard Brake was the better Night King. Can’t change my mind Not that it takes a whole lot of acting for the role of Night King, but I just think the facial structure of Richard Brakes Night King looks more realistic of a human decent. The current Night King played by Vladimír Furdík seems a little more “CGI/animated to me” but I’m also a wicked big fan of Richard’s other work so maybe I’m just biased🤷‍♀️\n",
      "[NO SPOILERS] Why doesn't Daenerys attack with her dragon at night? They wouldn't even be able to see her before she burned them all. nan\n",
      "[NO SPOILERS] Why doesn't Daenerys attack with her dragon at night? They wouldn't even be able to see her before she burned them all.\n",
      "[Spoilers] It was the hormones. It’ll probably be revealed that Danaerys is pregnant in the last episode. All she has to do is mention that she has not bled for two moons to Grey Worm. It would obviously add more weight to whatever her ultimate fate is. \n",
      "\n",
      "I figured it was ashes in the House of Undeying vision all along.\n",
      "It was the hormones. It’ll probably be revealed that Danaerys is pregnant in the last episode. All she has to do is mention that she has not bled for two moons to Grey Worm. It would obviously add more weight to whatever her ultimate fate is. I figured it was ashes in the House of Undeying vision all along.\n",
      "[No Spoilers]Anyone else get a suspicious vibe from this scene? Character on the left appears to be in some prosthetic / disguise. Does the scene otherwise serve the plot? 23:40 into the episode. nan\n",
      "[No Spoilers]Anyone else get a suspicious vibe from this scene? Character on the left appears to be in some prosthetic / disguise. Does the scene otherwise serve the plot? 23:40 into the episode.\n"
     ]
    },
    {
     "name": "stderr",
     "output_type": "stream",
     "text": [
      "/anaconda3/lib/python3.7/site-packages/ipykernel_launcher.py:8: SettingWithCopyWarning: \n",
      "A value is trying to be set on a copy of a slice from a DataFrame\n",
      "\n",
      "See the caveats in the documentation: http://pandas.pydata.org/pandas-docs/stable/indexing.html#indexing-view-versus-copy\n",
      "  \n",
      "/anaconda3/lib/python3.7/site-packages/ipykernel_launcher.py:15: SettingWithCopyWarning: \n",
      "A value is trying to be set on a copy of a slice from a DataFrame\n",
      "\n",
      "See the caveats in the documentation: http://pandas.pydata.org/pandas-docs/stable/indexing.html#indexing-view-versus-copy\n",
      "  from ipykernel import kernelapp as app\n"
     ]
    }
   ],
   "source": [
    "sentiment(df_sample)"
   ]
  },
  {
   "cell_type": "code",
   "execution_count": 68,
   "metadata": {},
   "outputs": [
    {
     "data": {
      "text/plain": [
       "0.0516"
      ]
     },
     "execution_count": 68,
     "metadata": {},
     "output_type": "execute_result"
    }
   ],
   "source": [
    "df_sample['sentiment'].iloc[3][2]['compound']"
   ]
  },
  {
   "cell_type": "code",
   "execution_count": 61,
   "metadata": {},
   "outputs": [],
   "source": [
    "#df_sample['sentiment_result'] = 0"
   ]
  },
  {
   "cell_type": "code",
   "execution_count": 76,
   "metadata": {},
   "outputs": [],
   "source": [
    "for i, j in df_sample.iterrows(): \n",
    "    text = df_sample['sentiment'][i]\n",
    "    sentiment_list = []\n",
    "    for i in range(len(text)):\n",
    "        sentiment = text[i]['compound']\n",
    "        sentiment_list.append(sentiment)\n",
    "        df_sample['sentiment_result'][i] = sentiment_list"
   ]
  },
  {
   "cell_type": "code",
   "execution_count": 77,
   "metadata": {},
   "outputs": [
    {
     "data": {
      "text/plain": [
       "34149                                 0\n",
       "12089                                 0\n",
       "84686                                 0\n",
       "111708                                0\n",
       "37246                                 0\n",
       "0            [-0.3612, -0.25, 0.0, 0.0]\n",
       "1            [-0.3612, -0.25, 0.0, 0.0]\n",
       "2            [-0.3612, -0.25, 0.0, 0.0]\n",
       "3            [-0.3612, -0.25, 0.0, 0.0]\n",
       "4         [0.0, 0.0, 0.0516, 0.0, 0.25]\n",
       "Name: sentiment_result, dtype: object"
      ]
     },
     "execution_count": 77,
     "metadata": {},
     "output_type": "execute_result"
    }
   ],
   "source": [
    "df_sample['sentiment_result']"
   ]
  },
  {
   "cell_type": "code",
   "execution_count": null,
   "metadata": {},
   "outputs": [],
   "source": []
  }
 ],
 "metadata": {
  "kernelspec": {
   "display_name": "Python 3",
   "language": "python",
   "name": "python3"
  },
  "language_info": {
   "codemirror_mode": {
    "name": "ipython",
    "version": 3
   },
   "file_extension": ".py",
   "mimetype": "text/x-python",
   "name": "python",
   "nbconvert_exporter": "python",
   "pygments_lexer": "ipython3",
   "version": "3.7.3"
  }
 },
 "nbformat": 4,
 "nbformat_minor": 2
}

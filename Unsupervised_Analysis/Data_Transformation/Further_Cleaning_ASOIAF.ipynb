{
 "cells": [
  {
   "cell_type": "code",
   "execution_count": 2,
   "metadata": {},
   "outputs": [],
   "source": [
    "import pandas as pd\n",
    "import nltk\n",
    "import re\n",
    "from nltk.corpus import stopwords\n",
    "from nltk.stem.wordnet import WordNetLemmatizer\n",
    "import string\n",
    "import pickle"
   ]
  },
  {
   "cell_type": "code",
   "execution_count": 3,
   "metadata": {},
   "outputs": [],
   "source": [
    "asoiaf = pickle.load( open( \"./Data/soiaf_reddit_ready_vector.pkl\", \"rb\" ) )"
   ]
  },
  {
   "cell_type": "code",
   "execution_count": 4,
   "metadata": {},
   "outputs": [],
   "source": [
    "count_dict_asoiaf = {}\n",
    "\n",
    "for doc in asoiaf['clean']:\n",
    "    for word in doc.split():\n",
    "        if word in count_dict_asoiaf.keys():\n",
    "            count_dict_asoiaf[word] +=1\n",
    "        else:\n",
    "            count_dict_asoiaf[word] = 1"
   ]
  },
  {
   "cell_type": "code",
   "execution_count": 5,
   "metadata": {},
   "outputs": [],
   "source": [
    "low_value = 20\n",
    "bad_words_asoiaf = [key for key in count_dict_asoiaf.keys() if count_dict_asoiaf[key] < low_value]"
   ]
  },
  {
   "cell_type": "code",
   "execution_count": 6,
   "metadata": {},
   "outputs": [],
   "source": [
    "corpus = [doc.split() for doc in asoiaf['clean']]"
   ]
  },
  {
   "cell_type": "code",
   "execution_count": 7,
   "metadata": {},
   "outputs": [],
   "source": [
    "cleaned_corpus_asoiaf = []\n",
    "for document in corpus:\n",
    "    cleaned_corpus_asoiaf.append([word for word in document if word not in bad_words_asoiaf])"
   ]
  },
  {
   "cell_type": "code",
   "execution_count": 8,
   "metadata": {},
   "outputs": [],
   "source": [
    "pickle.dump(cleaned_corpus_asoiaf, open(\"cleaned_corpus_asoiaf.pkl\", \"wb\" ) )"
   ]
  },
  {
   "cell_type": "code",
   "execution_count": 10,
   "metadata": {},
   "outputs": [],
   "source": [
    "extra_stop_words = ['ign', 'diggory', 'cedric', 'timon', 'pumba', 'arnold', 'gotzmilk', 'episode', 'season', 'character', 'show', \n",
    "                    'amp', 'xb', 'de', 'et', 'le', 'http', 'la', 'com', 'il', 'de', 'gt', 'se', 'gt', 'qui', 'lt', 'xb', 'amp',\n",
    "                   'one', 'would', 'could', 'gif', \"youl'\", 'may', 'get', 'instagram', 'aa',\n",
    " 'aaa',\n",
    " 'aaaaaaand',\n",
    " 'aaaaand',\n",
    " 'aaaand',\n",
    " 'aaand',\n",
    " 'aabns',\n",
    " 'aabxbmaea',\n",
    " 'aafdadceaf',\n",
    " 'aarambha',\n",
    " 'aaron',\n",
    " 'aarya',\n",
    " 'ab', 'abc', 'er', 'nk', 'ww', 'amp', 'http', 'asoiaf', 'com', 'reddit', 'www', 'subscriber', 'search', 'timestamp','gt', 'agot', 'adwd', 'character', 'like', 'book', 'season', 'episode',\n",
    "                   'nbsp', 'http', 'com', 'tumblr',  'www', 'gif', 'asoiaf', 'comment', 'reddit', 'xb', 'amp', 'redd', 'png', 'http', 'like']\n",
    "\n"
   ]
  },
  {
   "cell_type": "code",
   "execution_count": 11,
   "metadata": {},
   "outputs": [],
   "source": [
    "further_cleaned_corpus_asoiaf = []\n",
    "for document in cleaned_corpus_asoiaf:\n",
    "    further_cleaned_corpus_asoiaf.append([word for word in document if word not in extra_stop_words])"
   ]
  },
  {
   "cell_type": "code",
   "execution_count": 12,
   "metadata": {},
   "outputs": [],
   "source": [
    "pickle.dump(further_cleaned_corpus_asoiaf, open(\"further_cleaned_corpus_asoiaf.pkl\", \"wb\" ) )"
   ]
  },
  {
   "cell_type": "code",
   "execution_count": null,
   "metadata": {},
   "outputs": [],
   "source": []
  }
 ],
 "metadata": {
  "kernelspec": {
   "display_name": "Python 3",
   "language": "python",
   "name": "python3"
  },
  "language_info": {
   "codemirror_mode": {
    "name": "ipython",
    "version": 3
   },
   "file_extension": ".py",
   "mimetype": "text/x-python",
   "name": "python",
   "nbconvert_exporter": "python",
   "pygments_lexer": "ipython3",
   "version": "3.7.3"
  }
 },
 "nbformat": 4,
 "nbformat_minor": 2
}

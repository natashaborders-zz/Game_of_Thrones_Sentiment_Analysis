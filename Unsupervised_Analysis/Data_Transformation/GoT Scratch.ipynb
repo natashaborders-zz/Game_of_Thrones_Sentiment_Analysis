{
 "cells": [
  {
   "cell_type": "code",
   "execution_count": 6,
   "metadata": {},
   "outputs": [],
   "source": [
    "import pandas as pd\n",
    "import nltk\n",
    "import re\n",
    "from nltk.corpus import stopwords\n",
    "from nltk.stem.wordnet import WordNetLemmatizer\n",
    "import string\n",
    "import pickle"
   ]
  },
  {
   "cell_type": "code",
   "execution_count": 7,
   "metadata": {},
   "outputs": [
    {
     "name": "stderr",
     "output_type": "stream",
     "text": [
      "[nltk_data] Downloading package stopwords to\n",
      "[nltk_data]     /Users/nborders/nltk_data...\n",
      "[nltk_data]   Package stopwords is already up-to-date!\n",
      "[nltk_data] Downloading package wordnet to\n",
      "[nltk_data]     /Users/nborders/nltk_data...\n",
      "[nltk_data]   Package wordnet is already up-to-date!\n"
     ]
    },
    {
     "data": {
      "text/plain": [
       "True"
      ]
     },
     "execution_count": 7,
     "metadata": {},
     "output_type": "execute_result"
    }
   ],
   "source": [
    "nltk.download('stopwords')\n",
    "nltk.download('wordnet')"
   ]
  },
  {
   "cell_type": "code",
   "execution_count": 4,
   "metadata": {},
   "outputs": [],
   "source": [
    "stop = set(stopwords.words('english'))\n",
    "got_stop = ['[spoilers]', '[deleted]', 'nan', '[removed]', '[spoiler]', 'deleted', '[Spoilers', 'Main]', 'Spoilers', 'Main', 'removed', 'spoiler', '[All', 'Spoilers]', 'all', 'spoilers', '[NO SPOILER]', 'no spoiler', '[SPOLER]', '(Spoilers', 'Main)', 'spoler', '[Spoilers]', '[SPOILERS]', 'SPOILERS', 'MAIN]', 'MAIN', 'extended)', 'extended', 'Production)', 'Production', 'EXTENDED]', 'EXTENDED', '[NO', 'SPOILERS]', 'NO', '*Spoilers', 'Ahead*', 'Ahead', 'Extended]', 'Extended', '{SPOILER}', 'SPOILER', '[No', 'Spoiler]', 'No', 'Spoiler', '(NO', 'SPOILERS)', 'MAIN)', '(SPOILERS', '(no', 'spoilers)', '[SPOILERS', 'Extended)']\n",
    "exclude = set(string.punctuation)\n",
    "lemma = WordNetLemmatizer()"
   ]
  },
  {
   "cell_type": "code",
   "execution_count": 8,
   "metadata": {},
   "outputs": [],
   "source": [
    "got_reddit = pickle.load( open( \"./Data/got_reddit.pkl\", \"rb\" ) )\n",
    "asoiaf_reddit = pickle.load( open( \"./Data/asoiaf_reddit.pkl\", \"rb\" ) )\n",
    "freefolk_reddit = pickle.load( open( \"./Data/freefolk_reddit.pkl\", \"rb\" ) )"
   ]
  },
  {
   "cell_type": "code",
   "execution_count": 9,
   "metadata": {},
   "outputs": [],
   "source": [
    "def remove_all_punctuation(comment):\n",
    "    punct_list = [i for i in string.punctuation]\n",
    "    \n",
    "    while re.findall(r'\\\\n', comment) != []:\n",
    "        comment = comment.replace(re.search(r'\\\\n', comment)[0], '')\n",
    "    while re.findall(r'\\\\t', comment) != []:\n",
    "        comment = comment.replace(re.search(r'\\\\t', comment)[0], '')\n",
    "    while re.findall(r'\\\\u.{4}', comment) != []:\n",
    "        comment = comment.replace(re.search(r'\\\\u.{4}', comment)[0], '')\n",
    "    \n",
    "    for i in punct_list:\n",
    "        comment = comment.replace(i, ' ')\n",
    "    \n",
    "    return comment"
   ]
  },
  {
   "cell_type": "code",
   "execution_count": 10,
   "metadata": {},
   "outputs": [],
   "source": [
    "def remove_punctuation(comment):\n",
    "    punct_list = [i for i in string.punctuation]\n",
    "    for i in punct_list:\n",
    "        comment = comment.replace(i, ' ')\n",
    "    return comment"
   ]
  },
  {
   "cell_type": "code",
   "execution_count": 11,
   "metadata": {},
   "outputs": [],
   "source": [
    "def trim_and_lower(comment):\n",
    "    arr = comment.split()\n",
    "    comment = \" \".join(arr).lower()\n",
    "    return comment"
   ]
  },
  {
   "cell_type": "code",
   "execution_count": 14,
   "metadata": {},
   "outputs": [],
   "source": [
    "#def remove_nums(comment)"
   ]
  },
  {
   "cell_type": "code",
   "execution_count": 13,
   "metadata": {},
   "outputs": [],
   "source": [
    "def remove_stops(comment):\n",
    "    stop_free = [i for i in comment.split() if i not in stop]\n",
    "    got_stop_free = \" \".join([i for i in stop_free if i not in got_stop])\n",
    "    return got_stop_free"
   ]
  },
  {
   "cell_type": "code",
   "execution_count": 15,
   "metadata": {},
   "outputs": [],
   "source": [
    "def lemmatize(comment):\n",
    "    return \" \".join(lemma.lemmatize(word) for word in comment.split())"
   ]
  },
  {
   "cell_type": "code",
   "execution_count": 26,
   "metadata": {},
   "outputs": [],
   "source": [
    "def remove_num(comment):\n",
    "    return ''.join([char for char in comment if not char.isdigit()])"
   ]
  },
  {
   "cell_type": "code",
   "execution_count": 27,
   "metadata": {
    "scrolled": true
   },
   "outputs": [],
   "source": [
    "got_reddit['clean'] = got_reddit['body'].apply(remove_all_punctuation)\n",
    "got_reddit['clean'] = got_reddit['clean'].apply(trim_and_lower)\n",
    "got_reddit['clean'] = got_reddit['clean'].apply(remove_num)\n",
    "got_reddit['clean'] = got_reddit['clean'].apply(remove_stops)\n",
    "got_reddit['clean'] = got_reddit['clean'].apply(lemmatize)\n",
    "\n",
    "asoiaf_reddit['clean'] = asoiaf_reddit['body'].apply(remove_all_punctuation)\n",
    "asoiaf_reddit['clean'] = asoiaf_reddit['clean'].apply(trim_and_lower)\n",
    "asoiaf_reddit['clean'] = asoiaf_reddit['clean'].apply(remove_num)\n",
    "asoiaf_reddit['clean'] = asoiaf_reddit['clean'].apply(remove_stops)\n",
    "asoiaf_reddit['clean'] = asoiaf_reddit['clean'].apply(lemmatize)\n",
    "\n",
    "freefolk_reddit['clean'] = freefolk_reddit['body'].apply(remove_all_punctuation)\n",
    "freefolk_reddit['clean'] = freefolk_reddit['clean'].apply(trim_and_lower)\n",
    "freefolk_reddit['clean'] = freefolk_reddit['clean'].apply(remove_num)\n",
    "freefolk_reddit['clean'] = freefolk_reddit['clean'].apply(remove_stops)\n",
    "freefolk_reddit['clean'] = freefolk_reddit['clean'].apply(lemmatize)"
   ]
  },
  {
   "cell_type": "code",
   "execution_count": 34,
   "metadata": {},
   "outputs": [],
   "source": [
    "#pickle.dump(freefolk_reddit, open(\"freefolk_reddit_ready_vector.pkl\", \"wb\" ) )\n",
    "#pickle.dump(asoiaf_reddit, open(\"soiaf_reddit_ready_vector.pkl\", \"wb\" ) )\n",
    "#pickle.dump(got_reddit, open(\"got_reddit_ready_vector.pkl\", \"wb\" ) )"
   ]
  },
  {
   "cell_type": "code",
   "execution_count": null,
   "metadata": {},
   "outputs": [],
   "source": []
  }
 ],
 "metadata": {
  "kernelspec": {
   "display_name": "Python 3",
   "language": "python",
   "name": "python3"
  },
  "language_info": {
   "codemirror_mode": {
    "name": "ipython",
    "version": 3
   },
   "file_extension": ".py",
   "mimetype": "text/x-python",
   "name": "python",
   "nbconvert_exporter": "python",
   "pygments_lexer": "ipython3",
   "version": "3.7.3"
  }
 },
 "nbformat": 4,
 "nbformat_minor": 2
}

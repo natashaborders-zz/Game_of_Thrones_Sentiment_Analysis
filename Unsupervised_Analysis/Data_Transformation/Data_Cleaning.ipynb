{
 "cells": [
  {
   "cell_type": "code",
   "execution_count": 1,
   "metadata": {},
   "outputs": [],
   "source": [
    "import pandas as pd\n",
    "import numpy as np\n",
    "import matplotlib.pyplot as plt\n",
    "import seaborn as sns\n",
    "\n",
    "%matplotlib inline\n",
    "import pickle"
   ]
  },
  {
   "cell_type": "code",
   "execution_count": 2,
   "metadata": {},
   "outputs": [],
   "source": [
    "import re\n",
    "import nltk\n",
    "import string\n",
    "from nltk.corpus import stopwords\n",
    "from nltk.stem import WordNetLemmatizer\n",
    "from nltk.tokenize import word_tokenize\n",
    "from nltk.stem import PorterStemmer\n",
    "from nltk.tokenize import word_tokenize"
   ]
  },
  {
   "cell_type": "code",
   "execution_count": 3,
   "metadata": {},
   "outputs": [
    {
     "name": "stderr",
     "output_type": "stream",
     "text": [
      "[nltk_data] Downloading package stopwords to\n",
      "[nltk_data]     /Users/nborders/nltk_data...\n",
      "[nltk_data]   Package stopwords is already up-to-date!\n",
      "[nltk_data] Downloading package punkt to /Users/nborders/nltk_data...\n",
      "[nltk_data]   Package punkt is already up-to-date!\n",
      "[nltk_data] Downloading package wordnet to\n",
      "[nltk_data]     /Users/nborders/nltk_data...\n",
      "[nltk_data]   Package wordnet is already up-to-date!\n",
      "[nltk_data] Downloading package averaged_perceptron_tagger to\n",
      "[nltk_data]     /Users/nborders/nltk_data...\n",
      "[nltk_data]   Package averaged_perceptron_tagger is already up-to-\n",
      "[nltk_data]       date!\n"
     ]
    },
    {
     "data": {
      "text/plain": [
       "True"
      ]
     },
     "execution_count": 3,
     "metadata": {},
     "output_type": "execute_result"
    }
   ],
   "source": [
    "nltk.download('stopwords')\n",
    "nltk.download('punkt')\n",
    "nltk.download('wordnet')\n",
    "nltk.download('averaged_perceptron_tagger')"
   ]
  },
  {
   "cell_type": "code",
   "execution_count": 4,
   "metadata": {},
   "outputs": [],
   "source": [
    "# Get stopwords from NLTK\n",
    "stop_words = set(stopwords.words('english'))\n",
    "\n",
    "# Lemmatizer and Stemmer\n",
    "lemmatizer=WordNetLemmatizer()\n",
    "stemmer= PorterStemmer()\n",
    "\n",
    "# Get punctuation\n",
    "punct_list = [i for i in string.punctuation]"
   ]
  },
  {
   "cell_type": "markdown",
   "metadata": {},
   "source": [
    "#Reference functions for cleaning:\n",
    "\n",
    "def clean_text(doc):\n",
    "    mid_clean = doc.strip().lower()\n",
    "    for i in punct_list:\n",
    "        mid_clean = mid_clean.replace(i, '')\n",
    "    mid_clean = re.sub(r'\\d+', '', mid_clean)\n",
    "    #cleaned = [lemmatizer.lemmatize(i) for i in mid_clean.split() if i not in stop_words]\n",
    "    stemmed = [stemmer.stem(i) for i in mid_clean.split() if i not in stop_words]\n",
    "    #stemmed = [stemmer.stem(i) for i in cleaned if i not in stop_words]\n",
    "    #pos_tagged = nltk.pos_tag(stemmed)\n",
    "    cleaned = stemmed\n",
    "    return cleaned\n",
    "\n",
    "\n",
    "def lower(text):\n",
    "    text = text.lower()\n",
    "    return text\n",
    "\n",
    "def remove_punctuation(text):\n",
    "    clean_text = re.sub(r'\\W+', ' ', text)\n",
    "    return clean_text\n",
    "\n",
    "def cleaning(text):\n",
    "    got_stopwords = ['[spoilers]', '[deleted]', 'nan', '[removed]', '[spoiler]', 'deleted', '[spoilers', 'main]', 'spoilers', 'main', 'removed', 'spoiler', '[all', 'spoilers]', 'all', 'spoilers', '[no', 'spoiler]', 'no', 'spoiler', '[spoiler]', '(spoilers', 'main)', 'spoler', '[spoilers]', '[spoilers]', 'spoilers', 'main]', 'main', 'extended)', 'extended', 'production)', 'production', 'extended]', 'extended', '[no', 'spoilers]', 'no', '*spoilers', 'ahead*', 'ahead', 'extended]', 'extended', '{spoiler}', 'spoiler', '[no', 'spoiler]', 'no', 'spoiler', '(no', 'spoilers)', 'main)', '(spoilers', '(no', 'spoilers)', '[spoilers', 'extended)']\n",
    "    text_words = text.split()\n",
    "    #print(text_words)\n",
    "    medium_words = [word for word in text_words if word.lower() not in stopwords.words('english')]\n",
    "    result_words = [word for word in text_words if word.lower() not in got_stopwords]\n",
    "    cleaned_text = ' '.join(result_words)\n",
    "    #print(cleaned_text)\n",
    "    return cleaned_text"
   ]
  },
  {
   "cell_type": "code",
   "execution_count": 5,
   "metadata": {},
   "outputs": [],
   "source": [
    "got_reddit = pickle.load( open( \"./Data/got_reddit.pkl\", \"rb\" ) )\n",
    "asoiaf_reddit = pickle.load( open( \"./Data/asoiaf_reddit.pkl\", \"rb\" ) )\n",
    "freefolk_reddit = pickle.load( open( \"./Data/freefolk_reddit.pkl\", \"rb\" ) )"
   ]
  },
  {
   "cell_type": "code",
   "execution_count": 6,
   "metadata": {},
   "outputs": [],
   "source": [
    "got_stopwords = ['[spoilers]', '[deleted]', 'nan', '[removed]', '[spoiler]', 'deleted', '[spoilers', 'main]', 'spoilers', 'main', 'removed', 'spoiler', '[all', 'spoilers]', 'all', 'spoilers', '[no', 'spoiler]', 'no', 'spoiler', '[spoiler]', '(spoilers', 'main)', 'spoler', '[spoilers]', '[spoilers]', 'spoilers', 'main]', 'main', 'extended)', 'extended', 'production)', 'production', 'extended]', 'extended', '[no', 'spoilers]', 'no', '*spoilers', 'ahead*', 'ahead', 'extended]', 'extended', '{spoiler}', 'spoiler', '[no', 'spoiler]', 'no', 'spoiler', '(no', 'spoilers)', 'main)', '(spoilers', '(no', 'spoilers)', '[spoilers', 'extended)']"
   ]
  },
  {
   "cell_type": "code",
   "execution_count": 7,
   "metadata": {},
   "outputs": [],
   "source": [
    "def transformation(df):\n",
    "    for i, j in df.iterrows(): \n",
    "        text = df['body'][i]\n",
    "        #print('1 ' + text)\n",
    "        mid_clean = text.strip().lower()\n",
    "        mid_clean = mid_clean.split()\n",
    "        mid_clean = [word for word in mid_clean if word not in got_stopwords]\n",
    "        mid_clean = ' '.join(mid_clean)\n",
    "        for i in punct_list:\n",
    "            mid_clean = mid_clean.replace(i, '')\n",
    "            mid_clean = re.sub(r'\\d+', ' ', mid_clean)\n",
    "        #print('2 ' + mid_clean)\n",
    "        mid_clean = mid_clean.split()\n",
    "        medium_words = [word for word in mid_clean if word not in stop_words]\n",
    "        cleaned_text = ' '.join(medium_words)\n",
    "        #print('3 ' + cleaned_text)\n",
    "        df['body'][i] = cleaned_text"
   ]
  },
  {
   "cell_type": "code",
   "execution_count": 8,
   "metadata": {},
   "outputs": [],
   "source": [
    "transformation(got_reddit)\n",
    "transformation(asoiaf_reddit)\n",
    "transformation(freefolk_reddit)\n",
    "\n",
    "#pickle.dump(freefolk_reddit, open(\"freefolk_reddit_cleaned_cluster.pkl\", \"wb\" ) )\n",
    "#pickle.dump(asoiaf_reddit, open(\"soiaf_reddit_cleaned_cluster.pkl\", \"wb\" ) )\n",
    "#pickle.dump(got_reddit, open(\"got_reddit_cleaned_cluster.pkl\", \"wb\" ) )"
   ]
  },
  {
   "cell_type": "code",
   "execution_count": null,
   "metadata": {},
   "outputs": [],
   "source": []
  }
 ],
 "metadata": {
  "kernelspec": {
   "display_name": "Python 3",
   "language": "python",
   "name": "python3"
  },
  "language_info": {
   "codemirror_mode": {
    "name": "ipython",
    "version": 3
   },
   "file_extension": ".py",
   "mimetype": "text/x-python",
   "name": "python",
   "nbconvert_exporter": "python",
   "pygments_lexer": "ipython3",
   "version": "3.7.3"
  }
 },
 "nbformat": 4,
 "nbformat_minor": 2
}

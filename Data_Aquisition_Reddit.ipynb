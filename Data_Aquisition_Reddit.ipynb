{
 "cells": [
  {
   "cell_type": "code",
   "execution_count": 5,
   "metadata": {},
   "outputs": [
    {
     "name": "stdout",
     "output_type": "stream",
     "text": [
      "Collecting praw\n",
      "\u001b[?25l  Downloading https://files.pythonhosted.org/packages/f6/70/0858527106424fd1a1b988fabe8fe3bb0340fc918dc2096342046fa6fada/praw-6.2.0-py2.py3-none-any.whl (120kB)\n",
      "\u001b[K     |████████████████████████████████| 122kB 3.8MB/s \n",
      "\u001b[?25hCollecting update-checker>=0.16 (from praw)\n",
      "  Downloading https://files.pythonhosted.org/packages/17/c9/ab11855af164d03be0ff4fddd4c46a5bd44799a9ecc1770e01a669c21168/update_checker-0.16-py2.py3-none-any.whl\n",
      "Collecting websocket-client>=0.54.0 (from praw)\n",
      "\u001b[?25l  Downloading https://files.pythonhosted.org/packages/29/19/44753eab1fdb50770ac69605527e8859468f3c0fd7dc5a76dd9c4dbd7906/websocket_client-0.56.0-py2.py3-none-any.whl (200kB)\n",
      "\u001b[K     |████████████████████████████████| 204kB 6.7MB/s \n",
      "\u001b[?25hCollecting prawcore<2.0,>=1.0.1 (from praw)\n",
      "  Downloading https://files.pythonhosted.org/packages/76/b5/ce6282dea45cba6f08a30e25d18e0f3d33277e2c9fcbda75644b8dc0089b/prawcore-1.0.1-py2.py3-none-any.whl\n",
      "Requirement already satisfied: requests>=2.3.0 in /anaconda3/lib/python3.7/site-packages (from update-checker>=0.16->praw) (2.21.0)\n",
      "Requirement already satisfied: six in /anaconda3/lib/python3.7/site-packages (from websocket-client>=0.54.0->praw) (1.12.0)\n",
      "Requirement already satisfied: chardet<3.1.0,>=3.0.2 in /anaconda3/lib/python3.7/site-packages (from requests>=2.3.0->update-checker>=0.16->praw) (3.0.4)\n",
      "Requirement already satisfied: urllib3<1.25,>=1.21.1 in /anaconda3/lib/python3.7/site-packages (from requests>=2.3.0->update-checker>=0.16->praw) (1.24.2)\n",
      "Requirement already satisfied: idna<2.9,>=2.5 in /anaconda3/lib/python3.7/site-packages (from requests>=2.3.0->update-checker>=0.16->praw) (2.8)\n",
      "Requirement already satisfied: certifi>=2017.4.17 in /anaconda3/lib/python3.7/site-packages (from requests>=2.3.0->update-checker>=0.16->praw) (2019.3.9)\n",
      "Installing collected packages: update-checker, websocket-client, prawcore, praw\n",
      "Successfully installed praw-6.2.0 prawcore-1.0.1 update-checker-0.16 websocket-client-0.56.0\n",
      "Note: you may need to restart the kernel to use updated packages.\n"
     ]
    }
   ],
   "source": [
    "pip install praw"
   ]
  },
  {
   "cell_type": "code",
   "execution_count": 12,
   "metadata": {},
   "outputs": [],
   "source": [
    "import praw\n",
    "import pandas as pd"
   ]
  },
  {
   "cell_type": "code",
   "execution_count": 13,
   "metadata": {},
   "outputs": [],
   "source": [
    "from info_file import reddit_info\n",
    "\n",
    "\n",
    "reddit = praw.Reddit(client_id = reddit_info['client_id'],\n",
    "                        client_secret = reddit_info['client_secret'],\n",
    "                        user_agent = reddit_info['user_agent'],\n",
    "                        username = reddit_info['username'],\n",
    "                        password = reddit_info['password'])"
   ]
  },
  {
   "cell_type": "code",
   "execution_count": 14,
   "metadata": {},
   "outputs": [],
   "source": [
    "game_of_thrones = reddit.subreddit('gameofthrones')\n",
    "asoiaf_reddit = reddit.subreddit('asoiaf')\n",
    "freefolk_reddit = reddit.subreddit('freefolk')\n",
    "\n",
    "d = { \"title\":[], \\\n",
    "                \"score\":[], \\\n",
    "                \"id\":[], \\\n",
    "                \"url\":[], \\\n",
    "                \"comms_num\": [], \\\n",
    "                \"created\": [], \\\n",
    "                \"body\":[], \\\n",
    "                \"comments\":[]}\n",
    "\n",
    "for submission in game_of_thrones.new():\n",
    "    d[\"title\"].append(submission.title)\n",
    "    d[\"score\"].append(submission.score)\n",
    "    d[\"id\"].append(submission.id)\n",
    "    d[\"url\"].append(submission.url)\n",
    "    d[\"comms_num\"].append(submission.num_comments)\n",
    "    d[\"created\"].append(submission.created)\n",
    "    d[\"body\"].append(submission.selftext)\n",
    "    submission.comments.replace_more(limit=None)\n",
    "    d[\"comments\"].append(submission.comments.list())\n",
    "    \n",
    "got = pd.DataFrame(d)\n",
    "\n",
    "\n",
    "a = { \"title\":[], \\\n",
    "                \"score\":[], \\\n",
    "                \"id\":[], \\\n",
    "                \"url\":[], \\\n",
    "                \"comms_num\": [], \\\n",
    "                \"created\": [], \\\n",
    "                \"body\":[], \\\n",
    "                \"comments\":[]}\n",
    "\n",
    "for submission in asoiaf_reddit.new():\n",
    "    a[\"title\"].append(submission.title)\n",
    "    a[\"score\"].append(submission.score)\n",
    "    a[\"id\"].append(submission.id)\n",
    "    a[\"url\"].append(submission.url)\n",
    "    a[\"comms_num\"].append(submission.num_comments)\n",
    "    a[\"created\"].append(submission.created)\n",
    "    a[\"body\"].append(submission.selftext)\n",
    "    submission.comments.replace_more(limit=None)\n",
    "    a[\"comments\"].append(submission.comments.list())\n",
    "    \n",
    "asoiaf = pd.DataFrame(a)\n",
    "\n",
    "f = { \"title\":[], \\\n",
    "                \"score\":[], \\\n",
    "                \"id\":[], \\\n",
    "                \"url\":[], \\\n",
    "                \"comms_num\": [], \\\n",
    "                \"created\": [], \\\n",
    "                \"body\":[], \\\n",
    "                \"comments\":[]}\n",
    "\n",
    "for submission in freefolk_reddit.new():\n",
    "    f[\"title\"].append(submission.title)\n",
    "    f[\"score\"].append(submission.score)\n",
    "    f[\"id\"].append(submission.id)\n",
    "    f[\"url\"].append(submission.url)\n",
    "    f[\"comms_num\"].append(submission.num_comments)\n",
    "    f[\"created\"].append(submission.created)\n",
    "    f[\"body\"].append(submission.selftext)\n",
    "    submission.comments.replace_more(limit=None)\n",
    "    f[\"comments\"].append(submission.comments.list())\n",
    "    \n",
    "freefolk = pd.DataFrame(f)"
   ]
  },
  {
   "cell_type": "code",
   "execution_count": 19,
   "metadata": {},
   "outputs": [
    {
     "name": "stdout",
     "output_type": "stream",
     "text": [
      "(100, 8)\n",
      "(100, 8)\n",
      "(100, 8)\n"
     ]
    }
   ],
   "source": [
    "print(freefolk.shape)\n",
    "print(asoiaf.shape)\n",
    "print(got.shape)"
   ]
  },
  {
   "cell_type": "code",
   "execution_count": 22,
   "metadata": {},
   "outputs": [
    {
     "data": {
      "text/plain": [
       "[Comment(id='enedazw')]"
      ]
     },
     "execution_count": 22,
     "metadata": {},
     "output_type": "execute_result"
    }
   ],
   "source": [
    "freefolk.iloc[35]['comments']"
   ]
  },
  {
   "cell_type": "code",
   "execution_count": null,
   "metadata": {},
   "outputs": [],
   "source": []
  }
 ],
 "metadata": {
  "kernelspec": {
   "display_name": "Python 3",
   "language": "python",
   "name": "python3"
  },
  "language_info": {
   "codemirror_mode": {
    "name": "ipython",
    "version": 3
   },
   "file_extension": ".py",
   "mimetype": "text/x-python",
   "name": "python",
   "nbconvert_exporter": "python",
   "pygments_lexer": "ipython3",
   "version": "3.7.3"
  }
 },
 "nbformat": 4,
 "nbformat_minor": 2
}
